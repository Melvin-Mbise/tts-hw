{
  "nbformat": 4,
  "nbformat_minor": 0,
  "metadata": {
    "colab": {
      "provenance": [],
      "authorship_tag": "ABX9TyNSRLDjyER9KPmlqxR+WuE7",
      "include_colab_link": true
    },
    "kernelspec": {
      "name": "python3",
      "display_name": "Python 3"
    },
    "language_info": {
      "name": "python"
    }
  },
  "cells": [
    {
      "cell_type": "markdown",
      "metadata": {
        "id": "view-in-github",
        "colab_type": "text"
      },
      "source": [
        "<a href=\"https://colab.research.google.com/github/Melvin-Mbise/tts-hw/blob/main/TTS_PythonHW_01_Practice.ipynb\" target=\"_parent\"><img src=\"https://colab.research.google.com/assets/colab-badge.svg\" alt=\"Open In Colab\"/></a>"
      ]
    },
    {
      "cell_type": "code",
      "execution_count": null,
      "metadata": {
        "colab": {
          "base_uri": "https://localhost:8080/"
        },
        "id": "1afL_9OzkN9j",
        "outputId": "7250a95c-f674-420a-d3fc-dfe9fd19e784"
      },
      "outputs": [
        {
          "output_type": "stream",
          "name": "stdout",
          "text": [
            "Enter first name: Melvin\n",
            "Enter last name: Mbise\n",
            "Mbise , Melvin\n"
          ]
        }
      ],
      "source": [
        "#pseudo-code\n",
        "firstname = input('Enter first name: ') #accept firstname\n",
        "lastname = input('Enter last name: ')  #accept lastname\n",
        "print(lastname, \",\", firstname)  #print them in reverse order with a space between them"
      ]
    },
    {
      "cell_type": "code",
      "source": [
        "integer = int(input ('Enter your integer'))\n",
        "value = (integer)+(integer**2)+(integer**3)\n",
        "print(value)"
      ],
      "metadata": {
        "colab": {
          "base_uri": "https://localhost:8080/"
        },
        "id": "fUAKAxqilQ4B",
        "outputId": "afa35265-bde1-49e2-f09b-2bc3d8093b31"
      },
      "execution_count": null,
      "outputs": [
        {
          "output_type": "stream",
          "name": "stdout",
          "text": [
            "Enter your integer2\n",
            "14\n"
          ]
        }
      ]
    },
    {
      "cell_type": "code",
      "source": [
        "Country = input('What country are you from? ')\n",
        "print('I have heard that' + ' ' + Country + ' ' + 'is a beautiful country!')"
      ],
      "metadata": {
        "colab": {
          "base_uri": "https://localhost:8080/"
        },
        "id": "_H49yXcajG7K",
        "outputId": "c4198d1d-7630-472b-d1bb-460065616610"
      },
      "execution_count": null,
      "outputs": [
        {
          "output_type": "stream",
          "name": "stdout",
          "text": [
            "What country are you from? Ethiopia\n",
            "I have heard that Ethiopia is a beautiful country!\n"
          ]
        }
      ]
    },
    {
      "cell_type": "code",
      "source": [
        "for i in range(11):\n",
        "  if i > 0:\n",
        "      print('4 x' , i , '=' , 4*i)"
      ],
      "metadata": {
        "colab": {
          "base_uri": "https://localhost:8080/"
        },
        "id": "CPLswjAax6GN",
        "outputId": "2393f7e9-d8eb-4376-9f84-a1501f25cbed"
      },
      "execution_count": null,
      "outputs": [
        {
          "output_type": "stream",
          "name": "stdout",
          "text": [
            "4 x 1 = 4\n",
            "4 x 2 = 8\n",
            "4 x 3 = 12\n",
            "4 x 4 = 16\n",
            "4 x 5 = 20\n",
            "4 x 6 = 24\n",
            "4 x 7 = 28\n",
            "4 x 8 = 32\n",
            "4 x 9 = 36\n",
            "4 x 10 = 40\n"
          ]
        }
      ]
    },
    {
      "cell_type": "code",
      "source": [
        "for i in range(11):\n",
        "  if i > 0:\n",
        "      print('4 multiplied by' , i , 'is' , 4*i)"
      ],
      "metadata": {
        "colab": {
          "base_uri": "https://localhost:8080/"
        },
        "id": "0AbiOIdqV4LO",
        "outputId": "0f3c19aa-733f-4476-95a2-29aec4b23c04"
      },
      "execution_count": null,
      "outputs": [
        {
          "output_type": "stream",
          "name": "stdout",
          "text": [
            "4 multiplied by 1 is 4\n",
            "4 multiplied by 2 is 8\n",
            "4 multiplied by 3 is 12\n",
            "4 multiplied by 4 is 16\n",
            "4 multiplied by 5 is 20\n",
            "4 multiplied by 6 is 24\n",
            "4 multiplied by 7 is 28\n",
            "4 multiplied by 8 is 32\n",
            "4 multiplied by 9 is 36\n",
            "4 multiplied by 10 is 40\n"
          ]
        }
      ]
    },
    {
      "cell_type": "code",
      "source": [
        "for i in range(1,11):\n",
        "   for j in range(1,11):\n",
        "      k = i*j\n",
        "      print (k, end=' ')\n",
        "   print( )"
      ],
      "metadata": {
        "colab": {
          "base_uri": "https://localhost:8080/"
        },
        "id": "ClDl5a5bW7Yc",
        "outputId": "fe1264a3-ed7f-45ff-bc48-5dad013ad055"
      },
      "execution_count": null,
      "outputs": [
        {
          "output_type": "stream",
          "name": "stdout",
          "text": [
            "1 2 3 4 5 6 7 8 9 10 \n",
            "2 4 6 8 10 12 14 16 18 20 \n",
            "3 6 9 12 15 18 21 24 27 30 \n",
            "4 8 12 16 20 24 28 32 36 40 \n",
            "5 10 15 20 25 30 35 40 45 50 \n",
            "6 12 18 24 30 36 42 48 54 60 \n",
            "7 14 21 28 35 42 49 56 63 70 \n",
            "8 16 24 32 40 48 56 64 72 80 \n",
            "9 18 27 36 45 54 63 72 81 90 \n",
            "10 20 30 40 50 60 70 80 90 100 \n"
          ]
        }
      ]
    },
    {
      "cell_type": "code",
      "source": [
        "for i in range(1,11):\n",
        "   for j in range(1,11):\n",
        "      k = i*j\n",
        "      print (k, end=' ')\n",
        "   print( )"
      ],
      "metadata": {
        "colab": {
          "base_uri": "https://localhost:8080/"
        },
        "id": "xGVsp4L7ftWv",
        "outputId": "a8402eef-92cd-4e0d-effd-2a7af4d3988a"
      },
      "execution_count": null,
      "outputs": [
        {
          "output_type": "stream",
          "name": "stdout",
          "text": [
            "1 2 3 4 5 6 7 8 9 10 \n",
            "2 4 6 8 10 12 14 16 18 20 \n",
            "3 6 9 12 15 18 21 24 27 30 \n",
            "4 8 12 16 20 24 28 32 36 40 \n",
            "5 10 15 20 25 30 35 40 45 50 \n",
            "6 12 18 24 30 36 42 48 54 60 \n",
            "7 14 21 28 35 42 49 56 63 70 \n",
            "8 16 24 32 40 48 56 64 72 80 \n",
            "9 18 27 36 45 54 63 72 81 90 \n",
            "10 20 30 40 50 60 70 80 90 100 \n"
          ]
        }
      ]
    },
    {
      "cell_type": "code",
      "source": [
        "x = 10\n",
        "y = 50\n",
        "if (x ** 2 > 100 and y < 100):\n",
        "    print(x, y)\n",
        "#the outout is nothing because the if code is false since x squared is equal to 100"
      ],
      "metadata": {
        "id": "MykX6mmrjBuq"
      },
      "execution_count": null,
      "outputs": []
    },
    {
      "cell_type": "code",
      "source": [
        "a = [10, 20]\n",
        "b = a\n",
        "b += [30, 40]\n",
        "print(a)\n",
        "print(b)\n",
        "\n",
        "#we appended [30,40] to a thus the output will have these additional numbers and it affects both b and a because they were defined as equal"
      ],
      "metadata": {
        "colab": {
          "base_uri": "https://localhost:8080/"
        },
        "id": "2yvdIB2ojsOT",
        "outputId": "21a11b2c-24c4-4540-85ed-ac367dd5a711"
      },
      "execution_count": null,
      "outputs": [
        {
          "output_type": "stream",
          "name": "stdout",
          "text": [
            "[10, 20, 30, 40]\n",
            "[10, 20, 30, 40]\n"
          ]
        }
      ]
    },
    {
      "cell_type": "code",
      "source": [
        "#Is a String Immutable in Python?\n",
        "#Yes it is immutable"
      ],
      "metadata": {
        "id": "pW479WQyo_09"
      },
      "execution_count": null,
      "outputs": []
    },
    {
      "cell_type": "code",
      "source": [
        "#What is the output of the following code and what arithmetic operators is being used here? print(2%6)\n",
        "2%6\n",
        "#The output is 2 and the operator is modulus which returns the remainder value after doing division"
      ],
      "metadata": {
        "colab": {
          "base_uri": "https://localhost:8080/"
        },
        "id": "HmJg3g2knIur",
        "outputId": "ea4d74b5-20c7-430c-d2ac-c5b39b9d2cd5"
      },
      "execution_count": null,
      "outputs": [
        {
          "output_type": "execute_result",
          "data": {
            "text/plain": [
              "2"
            ]
          },
          "metadata": {},
          "execution_count": 47
        }
      ]
    },
    {
      "cell_type": "code",
      "source": [
        "#What is the output of the following code and what arithmetic operators are used here? print(2 * 3 ** 3 * 4)\n",
        "print(2 * 3 ** 3 * 4)\n",
        "#The output is 216 and the operators are multiplication and exponent"
      ],
      "metadata": {
        "colab": {
          "base_uri": "https://localhost:8080/"
        },
        "id": "SXp7pb8Qn7Vr",
        "outputId": "6ebcf6c3-0e63-42d3-ffde-8874c8445c23"
      },
      "execution_count": null,
      "outputs": [
        {
          "output_type": "stream",
          "name": "stdout",
          "text": [
            "216\n"
          ]
        }
      ]
    },
    {
      "cell_type": "code",
      "source": [
        "#What is a text editor?\n",
        "#It is a computer program that allows one to manipulate, edit and run code or text. I believe it is useful since it can run multiple programming languages i.e. HTML/Python\n"
      ],
      "metadata": {
        "id": "VML3XtcVoaAk"
      },
      "execution_count": null,
      "outputs": []
    },
    {
      "cell_type": "code",
      "source": [
        "#What is python?\n",
        "#It is a high-level programming language used for a variety of tasks such as data analysis and website building\n"
      ],
      "metadata": {
        "id": "MIqNqhMBoiZR"
      },
      "execution_count": null,
      "outputs": []
    },
    {
      "cell_type": "code",
      "source": [
        "#What is jupyter notebook, what type of python environment is it, and what alternatives are there to jupyter notebook?\n",
        "#It is a web-based computing platform and it uses a virtual python 3 environment using ipykernel. Alternatives include Sublime Text or Google Colab  "
      ],
      "metadata": {
        "id": "zoln0ETBokul"
      },
      "execution_count": null,
      "outputs": []
    },
    {
      "cell_type": "code",
      "source": [
        "#What is the output of x AND explain why that is the output for:\n",
        "x = 36 / 4 * (3 +  2) * 4 + 2\n",
        "print(x)\n",
        "#The output is 182 and this is due to the order of operations in math"
      ],
      "metadata": {
        "colab": {
          "base_uri": "https://localhost:8080/"
        },
        "id": "a_QZU-7dpafn",
        "outputId": "3f833f6d-cf4f-4d15-9dc5-ccffe96fedc1"
      },
      "execution_count": null,
      "outputs": [
        {
          "output_type": "stream",
          "name": "stdout",
          "text": [
            "182.0\n"
          ]
        }
      ]
    }
  ]
}